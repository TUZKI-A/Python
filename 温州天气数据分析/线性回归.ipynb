{
 "cells": [
  {
   "cell_type": "code",
   "execution_count": 9,
   "metadata": {},
   "outputs": [
    {
     "name": "stdout",
     "output_type": "stream",
     "text": [
      "      Unnamed: 0     年   月   日  最高温  最低温 天气状况 白天风向  最大风力(白天)\n",
      "0              0  2011   1   1    9    1   多云   北风         6\n",
      "1              1  2011   1   2   11    4   多云   北风         5\n",
      "2              2  2011   1   3   10    2   多云   北风         4\n",
      "3              3  2011   1   4   10    5   多云  东北风         4\n",
      "4              4  2011   1   5    7    3   小雨  东北风         4\n",
      "...          ...   ...  ..  ..  ...  ...  ...  ...       ...\n",
      "4012        4012  2021  12  27    7    1   多云   北风         2\n",
      "4013        4013  2021  12  28    7    4   小雨   北风         2\n",
      "4014        4014  2021  12  29   15    4   多云  西北风         2\n",
      "4015        4015  2021  12  30   15    4    晴   北风         2\n",
      "4016        4016  2021  12  31   12    5    晴   东风         4\n",
      "\n",
      "[4017 rows x 9 columns]\n"
     ]
    }
   ],
   "source": [
    "import pandas as pd\n",
    "import numpy as np\n",
    "import matplotlib.pyplot as plt\n",
    "data = pd.read_excel('./weather2.xlsx')\n",
    "#增加年月维度\n",
    "data['日期']=pd.to_datetime(data['日期'],errors='coerce')\n",
    "data['年']=data['日期'].dt.year\n",
    "data['月']=data['日期'].dt.month\n",
    "data['日']=data['日期'].dt.day\n",
    "data = data.loc[:,['年','月','日','最高温','最低温','天气状况','白天风向','最大风力(白天)']]\n",
    "data.to_csv('weather3.csv',encoding = 'gbk')\n",
    "data = pd.read_csv('weather3.csv',encoding = 'gbk')\n",
    "data['天气状况']=data['天气状况'].apply(lambda x:x.split('/')[0])\n",
    "print(data)"
   ]
  },
  {
   "cell_type": "code",
   "execution_count": null,
   "metadata": {
    "scrolled": true
   },
   "outputs": [],
   "source": [
    "class Data:\n",
    "    def __init__(self) -> None:\n",
    "        self.N = int(4017)\n",
    "        self.file_name = 'weather3.csv'  #原始数据的存储位置\n",
    "        self.Days = []\n",
    "        self.parameter = ['year', 'month', 'day','tmax', 'tmin', 'weather', 'wind', 'wind_grade']\n",
    "        self.Weather = {\n",
    "            '雪': 0,\n",
    "            '雨夹雪': 1,\n",
    "            '阴转雪': 2,\n",
    "            '雪转阴': 3,\n",
    "            '多云转雪': 4,\n",
    "            '雪转晴': 5,\n",
    "            '小雪': 6,\n",
    "            '大雨': 7,\n",
    "            '大到暴雨': 8,\n",
    "            '大雨转雨': 9,\n",
    "            '中雨到暴雨': 10,\n",
    "            '小雨到暴风雨': 11,\n",
    "            '小雨到暴雨': 12,\n",
    "            '小雨到大雨转雨': 13,\n",
    "            '中到大雨': 14,\n",
    "            '中雨转雨': 15,\n",
    "            '中雨': 16,\n",
    "            '暴雨': 17,\n",
    "            '雨': 18,\n",
    "            '小雨到大雨': 19,\n",
    "            '小雨到中雨': 20,\n",
    "            '雷阵雨': 21,\n",
    "            '阵雨': 22,\n",
    "            '小到中雨': 23,\n",
    "            '小雨转雨': 24,\n",
    "            '多云转小雨': 25,\n",
    "            '小雨': 26,\n",
    "            '小雨转阴': 27,\n",
    "            '阴到小雨': 28,\n",
    "            '阴转雨': 29,\n",
    "            '晴转雨': 30,\n",
    "            '阴转小雨': 31,\n",
    "            '小雨转多云': 32,\n",
    "            '多云转雨': 33,\n",
    "            '晴转小雨': 34,\n",
    "            '雾': 35,\n",
    "            '多云': 36,\n",
    "            '多云转阴': 37,\n",
    "            '阴': 38,\n",
    "            '阴转多云': 39,\n",
    "            '霾': 40,\n",
    "            '霾转多云': 41,\n",
    "            '霾转晴': 42,\n",
    "            '浮尘': 43,\n",
    "            '多云转晴': 44,\n",
    "            '晴转多云': 45,\n",
    "            '阴转晴': 46,\n",
    "            '晴': 47,\n",
    "        }\n",
    "        self.Wind = {\n",
    "            '西南风': 0,\n",
    "            '西北风': 1,\n",
    "            '东北风': 2,\n",
    "            '西风': 3,\n",
    "            '北风': 4,\n",
    "            '东风': 5,\n",
    "            '南风': 6,\n",
    "            '东南风': 7,\n",
    "            '无持续风向':8,\n",
    "        }\n",
    "\n",
    "    def _processData(self):\n",
    "        data = pd.read_csv(self.file_name,encoding = 'gbk')\n",
    "        data['天气状况']=data['天气状况'].apply(lambda x:x.split('/')[0])\n",
    "        year=data['年']\n",
    "        month=data['月']\n",
    "        day=data['日']\n",
    "        tmax=data['最高温']\n",
    "        tmin=data['最低温']\n",
    "        weather=data['天气状况']\n",
    "        wind=data['白天风向']\n",
    "        wind_grade=data['最大风力(白天)']\n",
    "        for i in range(self.N):\n",
    "            Day = {\n",
    "                'year':year[i],\n",
    "                'month': month[i],\n",
    "                'day': day[i],\n",
    "                'tmax': tmax[i],\n",
    "                'tmin': tmin[i],\n",
    "                'weather': self.Weather[weather[i]],\n",
    "                'wind': self.Wind[wind[i]],\n",
    "                'wind_grade': wind_grade[i],\n",
    "            }\n",
    "            self.Days.append(Day)\n",
    "    def _getData(self):\n",
    "        with open('train_data.txt', \"w\") as f:\n",
    "            for day in self.Days:\n",
    "                line = []\n",
    "                for i in self.parameter:\n",
    "                    line.append(str(day[i]))\n",
    "                tmax = int(day['tmax'])\n",
    "                tmin = int(day['tmin'])\n",
    "                ave_t = str(int((tmax + tmin) / 2))\n",
    "                line.append(ave_t)\n",
    "                f.write(' '.join(line) + '\\n')\n",
    "            f.close()\n",
    "\n",
    "    def read(self):\n",
    "        self._processData()\n",
    "        self._getData()\n",
    "\n",
    "data = Data()\n",
    "data.read()"
   ]
  },
  {
   "cell_type": "code",
   "execution_count": null,
   "metadata": {
    "cocalc": {
     "outputs": {
      "1": {
       "name": "input",
       "opts": {
        "password": false,
        "prompt": ""
       },
       "output_type": "stream",
       "value": "2021 09 01  29 18 21 6 2 23"
      },
      "2": {
       "name": "input",
       "opts": {
        "password": false,
        "prompt": ""
       },
       "output_type": "stream",
       "value": "2021 09 02  29 18 15 5 1 23"
      },
      "3": {
       "name": "input",
       "opts": {
        "password": false,
        "prompt": ""
       },
       "output_type": "stream",
       "value": "2021 09 03 30 22 13 6 1 26"
      },
      "4": {
       "name": "input",
       "opts": {
        "password": false,
        "prompt": ""
       },
       "output_type": "stream",
       "value": "2021 09 04 23 20 8 5 1 21"
      },
      "5": {
       "name": "input",
       "opts": {
        "password": false,
        "prompt": ""
       },
       "output_type": "stream",
       "value": "2021 09 05 24 20 6 4 1 22"
      },
      "7": {
       "name": "input",
       "opts": {
        "password": false,
        "prompt": ""
       },
       "output_type": "stream"
      }
     }
    }
   },
   "outputs": [
    {
     "name": "stdout",
     "output_type": "stream",
     "text": [
      "[[ 1.66041529e-02]\n",
      " [ 5.27983710e-03]\n",
      " [ 8.02822135e-02]\n",
      " [ 7.97088303e-02]\n",
      " [-1.76839746e-03]\n",
      " [ 1.25228016e-02]\n",
      " [ 1.22970459e-01]\n",
      " [-6.21790600e-02]\n",
      " [-3.48205194e-02]\n",
      " [-4.52668290e-03]\n",
      " [-4.84985598e-02]\n",
      " [-6.26980091e-03]\n",
      " [ 7.62496859e-04]\n",
      " [-2.75347258e-04]\n",
      " [ 2.70485868e-02]\n",
      " [ 1.04336730e-01]\n",
      " [ 4.44359726e-03]\n",
      " [-1.02992149e-02]\n",
      " [-3.97982554e-03]\n",
      " [-1.32795837e-01]\n",
      " [-4.23038044e-03]\n",
      " [-3.17673165e-04]\n",
      " [-3.55359826e-02]\n",
      " [ 1.26702975e-01]\n",
      " [ 2.25921743e-02]\n",
      " [ 3.54399586e-03]\n",
      " [ 1.51757055e-02]\n",
      " [-2.42349718e-01]\n",
      " [-2.38961550e-02]\n",
      " [-6.80862714e-02]\n",
      " [ 1.42110218e-01]\n",
      " [ 7.33525871e-02]\n",
      " [-4.70605351e-02]\n",
      " [ 1.30509072e-02]\n",
      " [ 4.19226754e-01]\n",
      " [ 9.18335159e-01]\n",
      " [ 3.57922253e-02]\n",
      " [ 1.62391196e-02]\n",
      " [-1.39044369e-01]\n",
      " [-3.27384943e-01]]\n"
     ]
    }
   ],
   "source": [
    "import numpy as np\n",
    "\n",
    "N, M = 1713, 5\n",
    "X, Y = [], []\n",
    "data = []\n",
    "\n",
    "def getData():\n",
    "    with open('train_data.txt', 'r') as f:\n",
    "        for j in range(N):\n",
    "            day = f.readline()\n",
    "            day = day.split()\n",
    "            x = []\n",
    "            if j >= M:\n",
    "                Y.append([int(day[-1])])\n",
    "            for i in range(1, len(day), 1):\n",
    "                x.append(int(day[i]))\n",
    "            data.append(x)\n",
    "        f.close()\n",
    "\n",
    "getData()\n",
    "\n",
    "\n",
    "for i in range(N - M):\n",
    "    x = []\n",
    "    for j in range(i, i + M):\n",
    "        for k in range(len(data[i])):\n",
    "            x.append(data[j][k])\n",
    "    X.append(x)\n",
    "\n",
    "Y = np.array(Y)\n",
    "X = np.array(X)\n",
    "\n",
    "R = np.dot(X.T, X)\n",
    "R = np.linalg.inv(R)\n",
    "X = np.dot(R, X.T)\n",
    "X = np.dot(X, Y)\n",
    "print(X)\n",
    "\n",
    "while True:\n",
    "    x = []\n",
    "    for i in range(M):\n",
    "        line = input()\n",
    "        line = line.split()\n",
    "        for j in range(1, len(line)):\n",
    "            x.append(int(line[j]))\n",
    "    x = np.array([x])\n",
    "    print(np.dot(x, X))"
   ]
  },
  {
   "cell_type": "code",
   "execution_count": 0,
   "metadata": {},
   "outputs": [],
   "source": []
  }
 ],
 "metadata": {
  "kernelspec": {
   "display_name": "Python 3",
   "language": "python",
   "name": "python3"
  },
  "language_info": {
   "codemirror_mode": {
    "name": "ipython",
    "version": 3
   },
   "file_extension": ".py",
   "mimetype": "text/x-python",
   "name": "python",
   "nbconvert_exporter": "python",
   "pygments_lexer": "ipython3",
   "version": "3.6.8"
  }
 },
 "nbformat": 4,
 "nbformat_minor": 4
}
