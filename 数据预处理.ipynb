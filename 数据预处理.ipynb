{
 "cells": [
  {
   "cell_type": "code",
   "execution_count": 21,
   "metadata": {},
   "outputs": [
    {
     "name": "stdout",
     "output_type": "stream",
     "text": [
      "           日期    天气状况      气温             风力风向\n",
      "0  2011-01-01   多云/多云   9℃/1℃    北风5-6级/北风4-5级\n",
      "1  2011-01-02  多云/雨夹雪  11℃/4℃    北风4-5级/北风4-5级\n",
      "2  2011-01-03   多云/多云  10℃/2℃    北风3-4级/北风3-4级\n",
      "3  2011-01-04   多云/多云  10℃/5℃  东北风3-4级/东北风3-4级\n",
      "4  2011-01-05  小雨/雨夹雪   7℃/3℃  东北风3-4级/东北风4-5级\n",
      "(4017, 4)\n"
     ]
    }
   ],
   "source": [
    "import pandas as pd\n",
    "import numpy as np\n",
    "weather =pd.read_excel('温州天气爬虫.xlsx')\n",
    "weather.drop_duplicates(subset='日期',inplace=True)\n",
    "excel_name = '温州天气爬虫.xlsx'\n",
    "sheets=['2012','2013','2014','2015','2016','2017','2018','2019','2020','2021',]\n",
    "for i in range(1,len(sheets)+1):\n",
    "    weather2 = pd.read_excel(excel_name,sheet_name=i)\n",
    "    weather2.drop_duplicates(subset='日期',inplace=True)\n",
    "    weather=weather.append(weather2,ignore_index=True)\n",
    "print(weather.head())\n",
    "print(weather.shape)"
   ]
  },
  {
   "cell_type": "code",
   "execution_count": 22,
   "metadata": {},
   "outputs": [
    {
     "name": "stdout",
     "output_type": "stream",
     "text": [
      "    0 1  2 3\n",
      "0   9    1  \n",
      "1  11    4  \n",
      "2  10    2  \n",
      "3  10    5  \n",
      "4   7    3  \n",
      "    0    1 2   3    4 5\n",
      "0   北  5-6     北  4-5  \n",
      "1   北  4-5     北  4-5  \n",
      "2   北  3-4     北  3-4  \n",
      "3  东北  3-4    东北  3-4  \n",
      "4  东北  3-4    东北  4-5  \n",
      "   0  1\n",
      "0  5  6\n",
      "1  4  5\n",
      "2  3  4\n",
      "3  3  4\n",
      "4  3  4\n",
      "   0  1\n",
      "0  4  5\n",
      "1  4  5\n",
      "2  3  4\n",
      "3  3  4\n",
      "4  4  5\n"
     ]
    }
   ],
   "source": [
    "df=weather['气温'].str.split('[/,℃]',expand=True)\n",
    "df1=weather['风力风向'].str.split('[风,级,/]',expand=True)\n",
    "df2=df1[1].str.split('[-,≤,<,～]',expand=True)\n",
    "df3=df1[4].str.split('[-,≤,<,～]',expand=True)\n",
    "print(df.head())\n",
    "print(df1.head())\n",
    "print(df2.head())\n",
    "print(df3.head())"
   ]
  },
  {
   "cell_type": "code",
   "execution_count": 23,
   "metadata": {},
   "outputs": [],
   "source": [
    "for i in range(0,4017):\n",
    "    if (df2[0][i]=='向1'):\n",
    "        df2[0][i]=1\n",
    "    elif(df2[0][i]==''):\n",
    "        df2[0][i]=0\n",
    "for i in range(0,4017):\n",
    "    if (df3[0][i]=='向1'):\n",
    "        df3[0][i]=1\n",
    "    elif(df3[0][i]==''):\n",
    "        df3[0][i]=0"
   ]
  },
  {
   "cell_type": "code",
   "execution_count": 24,
   "metadata": {},
   "outputs": [
    {
     "name": "stderr",
     "output_type": "stream",
     "text": [
      "d:\\program files (x86)\\python\\lib\\site-packages\\ipykernel_launcher.py:11: SettingWithCopyWarning: \n",
      "A value is trying to be set on a copy of a slice from a DataFrame\n",
      "\n",
      "See the caveats in the documentation: https://pandas.pydata.org/pandas-docs/stable/user_guide/indexing.html#returning-a-view-versus-a-copy\n",
      "  # This is added back by InteractiveShellApp.init_path()\n",
      "d:\\program files (x86)\\python\\lib\\site-packages\\ipykernel_launcher.py:14: SettingWithCopyWarning: \n",
      "A value is trying to be set on a copy of a slice from a DataFrame\n",
      "\n",
      "See the caveats in the documentation: https://pandas.pydata.org/pandas-docs/stable/user_guide/indexing.html#returning-a-view-versus-a-copy\n",
      "  \n"
     ]
    },
    {
     "data": {
      "text/html": [
       "<div>\n",
       "<style scoped>\n",
       "    .dataframe tbody tr th:only-of-type {\n",
       "        vertical-align: middle;\n",
       "    }\n",
       "\n",
       "    .dataframe tbody tr th {\n",
       "        vertical-align: top;\n",
       "    }\n",
       "\n",
       "    .dataframe thead th {\n",
       "        text-align: right;\n",
       "    }\n",
       "</style>\n",
       "<table border=\"1\" class=\"dataframe\">\n",
       "  <thead>\n",
       "    <tr style=\"text-align: right;\">\n",
       "      <th></th>\n",
       "      <th>日期</th>\n",
       "      <th>天气状况</th>\n",
       "      <th>气温</th>\n",
       "      <th>风力风向</th>\n",
       "      <th>最高温</th>\n",
       "      <th>最低温</th>\n",
       "      <th>最大风力(白天)</th>\n",
       "      <th>最大风力(夜间)</th>\n",
       "      <th>最小风力(白天)</th>\n",
       "      <th>最小风力(夜间)</th>\n",
       "      <th>白天风向</th>\n",
       "      <th>夜间风向</th>\n",
       "    </tr>\n",
       "  </thead>\n",
       "  <tbody>\n",
       "    <tr>\n",
       "      <th>0</th>\n",
       "      <td>2011-01-01</td>\n",
       "      <td>多云/多云</td>\n",
       "      <td>9℃/1℃</td>\n",
       "      <td>北风5-6级/北风4-5级</td>\n",
       "      <td>9</td>\n",
       "      <td>1</td>\n",
       "      <td>6</td>\n",
       "      <td>5</td>\n",
       "      <td>5</td>\n",
       "      <td>4</td>\n",
       "      <td>北</td>\n",
       "      <td>北</td>\n",
       "    </tr>\n",
       "    <tr>\n",
       "      <th>1</th>\n",
       "      <td>2011-01-02</td>\n",
       "      <td>多云/雨夹雪</td>\n",
       "      <td>11℃/4℃</td>\n",
       "      <td>北风4-5级/北风4-5级</td>\n",
       "      <td>11</td>\n",
       "      <td>4</td>\n",
       "      <td>5</td>\n",
       "      <td>5</td>\n",
       "      <td>4</td>\n",
       "      <td>4</td>\n",
       "      <td>北</td>\n",
       "      <td>北</td>\n",
       "    </tr>\n",
       "    <tr>\n",
       "      <th>2</th>\n",
       "      <td>2011-01-03</td>\n",
       "      <td>多云/多云</td>\n",
       "      <td>10℃/2℃</td>\n",
       "      <td>北风3-4级/北风3-4级</td>\n",
       "      <td>10</td>\n",
       "      <td>2</td>\n",
       "      <td>4</td>\n",
       "      <td>4</td>\n",
       "      <td>3</td>\n",
       "      <td>3</td>\n",
       "      <td>北</td>\n",
       "      <td>北</td>\n",
       "    </tr>\n",
       "    <tr>\n",
       "      <th>3</th>\n",
       "      <td>2011-01-04</td>\n",
       "      <td>多云/多云</td>\n",
       "      <td>10℃/5℃</td>\n",
       "      <td>东北风3-4级/东北风3-4级</td>\n",
       "      <td>10</td>\n",
       "      <td>5</td>\n",
       "      <td>4</td>\n",
       "      <td>4</td>\n",
       "      <td>3</td>\n",
       "      <td>3</td>\n",
       "      <td>东北</td>\n",
       "      <td>东北</td>\n",
       "    </tr>\n",
       "    <tr>\n",
       "      <th>4</th>\n",
       "      <td>2011-01-05</td>\n",
       "      <td>小雨/雨夹雪</td>\n",
       "      <td>7℃/3℃</td>\n",
       "      <td>东北风3-4级/东北风4-5级</td>\n",
       "      <td>7</td>\n",
       "      <td>3</td>\n",
       "      <td>4</td>\n",
       "      <td>5</td>\n",
       "      <td>3</td>\n",
       "      <td>4</td>\n",
       "      <td>东北</td>\n",
       "      <td>东北</td>\n",
       "    </tr>\n",
       "  </tbody>\n",
       "</table>\n",
       "</div>"
      ],
      "text/plain": [
       "           日期    天气状况      气温             风力风向  最高温  最低温  最大风力(白天)  最大风力(夜间)  \\\n",
       "0  2011-01-01   多云/多云   9℃/1℃    北风5-6级/北风4-5级    9    1         6         5   \n",
       "1  2011-01-02  多云/雨夹雪  11℃/4℃    北风4-5级/北风4-5级   11    4         5         5   \n",
       "2  2011-01-03   多云/多云  10℃/2℃    北风3-4级/北风3-4级   10    2         4         4   \n",
       "3  2011-01-04   多云/多云  10℃/5℃  东北风3-4级/东北风3-4级   10    5         4         4   \n",
       "4  2011-01-05  小雨/雨夹雪   7℃/3℃  东北风3-4级/东北风4-5级    7    3         4         5   \n",
       "\n",
       "   最小风力(白天)  最小风力(夜间) 白天风向 夜间风向  \n",
       "0         5         4    北    北  \n",
       "1         4         4    北    北  \n",
       "2         3         3    北    北  \n",
       "3         3         3   东北   东北  \n",
       "4         3         4   东北   东北  "
      ]
     },
     "execution_count": 24,
     "metadata": {},
     "output_type": "execute_result"
    }
   ],
   "source": [
    "weather['最高温']=np.int32(df[0])\n",
    "weather['最低温']=np.int32(df[2])\n",
    "weather['最大风力(白天)']=np.int32(df2[1])\n",
    "weather['最大风力(夜间)']=np.int32(df3[1])\n",
    "weather['最小风力(白天)']=np.int32(df2[0])\n",
    "weather['最小风力(夜间)']=np.int32(df3[0])\n",
    "weather['白天风向']=df1[0]\n",
    "weather['夜间风向']=df1[3]\n",
    "for i in range(0,4017):\n",
    "    if (weather['白天风向'][i]=='无持续'):\n",
    "        weather['白天风向'][i]='无持续风向'\n",
    "for i in range(0,4017):\n",
    "    if(weather['夜间风向'][i]=='无持续'):\n",
    "        weather['夜间风向'][i]='无持续风向'\n",
    "weather.head()"
   ]
  },
  {
   "cell_type": "code",
   "execution_count": 25,
   "metadata": {},
   "outputs": [],
   "source": [
    "weather.to_excel('D:weather1.xlsx')"
   ]
  },
  {
   "cell_type": "code",
   "execution_count": 29,
   "metadata": {},
   "outputs": [
    {
     "data": {
      "text/plain": [
       "2"
      ]
     },
     "execution_count": 29,
     "metadata": {},
     "output_type": "execute_result"
    }
   ],
   "source": [
    "weather['最大风力(白天)'][3264]"
   ]
  },
  {
   "cell_type": "code",
   "execution_count": null,
   "metadata": {},
   "outputs": [],
   "source": []
  }
 ],
 "metadata": {
  "kernelspec": {
   "display_name": "Python 3",
   "language": "python",
   "name": "python3"
  },
  "language_info": {
   "codemirror_mode": {
    "name": "ipython",
    "version": 3
   },
   "file_extension": ".py",
   "mimetype": "text/x-python",
   "name": "python",
   "nbconvert_exporter": "python",
   "pygments_lexer": "ipython3",
   "version": "3.6.8"
  }
 },
 "nbformat": 4,
 "nbformat_minor": 2
}
